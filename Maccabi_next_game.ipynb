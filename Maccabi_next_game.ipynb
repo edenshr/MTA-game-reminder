{
 "cells": [
  {
   "cell_type": "code",
   "execution_count": 7,
   "metadata": {},
   "outputs": [],
   "source": [
    "import pandas as pd\n",
    "import numpy as np\n",
    "import glob\n",
    "import os\n",
    "from matplotlib import pyplot as plt\n",
    "os.environ['KMP_DUPLICATE_LIB_OK']='True'\n",
    "import time\n",
    "from selenium import webdriver\n",
    "from telegram import *\n",
    "from telegram.ext import *\n",
    "\n",
    "chrome_options = webdriver.ChromeOptions()\n",
    "chrome_options.add_argument('disable-infobars')\n",
    "chrome_options.add_argument('--disable-notifications')\n",
    "chrome_options.add_experimental_option(\"excludeSwitches\", [\"enable-automation\"])\n",
    "chrome_options.add_experimental_option('useAutomationExtension', False)\n",
    "chrome_options.add_argument('--disable-popup-blocking')"
   ]
  },
  {
   "cell_type": "code",
   "execution_count": 8,
   "metadata": {},
   "outputs": [],
   "source": [
    "def get_next_maccabi_game():\n",
    "    \n",
    "    WEB_DRIVER_PATH = ''\n",
    "    url = \"https://www.maccabi-tlv.co.il/\"\n",
    "    driver = webdriver.Chrome(executable_path= WEB_DRIVER_PATH, options=chrome_options)\n",
    "    driver.get(url)\n",
    "    time.sleep(2.0)\n",
    "    away_team = driver.find_element_by_xpath(\"/html/body/div[3]/div/div/div[3]/div[2]/div[1]/div[4]/div[1]/div\").text\n",
    "    home_team = driver.find_element_by_xpath(\"/html/body/div[3]/div/div/div[3]/div[2]/div[1]/div[4]/div[3]/div\").text\n",
    "    stadium = driver.find_element_by_xpath(\"/html/body/div[3]/div/div/div[3]/div[2]/div[1]/div[5]/span/ul/li[2]/div\").text\n",
    "    game_time = driver.find_element_by_xpath(\"/html/body/div[3]/div/div/div[3]/div[2]/div[1]/div[5]/span/ul/li[4]/div\").text\n",
    "    date = driver.find_element_by_xpath(\"/html/body/div[3]/div/div/div[3]/div[2]/div[1]/div[5]/span/ul/li[3]/div\").text\n",
    "    driver.close()\n",
    "    return home_team,away_team,stadium,game_time,date\n",
    "    \n",
    "def print_next_game_maccabi():\n",
    "    \n",
    "    home_team,away_team,stadium,game_time,date = get_next_maccabi_game()\n",
    "    response = f\"קבוצת בית : {home_team}\\nקבוצת חוץ : {away_team}\\nאיצטדיון : {stadium}\\nשעת משחק : {game_time}\\nתאריך : {date}\"\n",
    "    \n",
    "    return response\n",
    "\n",
    "def send_game_detailes(update,CallbackContext):\n",
    "    \n",
    "    bot.send_message(chat_id = update.effective_chat.id,text = print_next_game_maccabi())"
   ]
  },
  {
   "cell_type": "code",
   "execution_count": 18,
   "metadata": {},
   "outputs": [
    {
     "data": {
      "text/plain": [
       "<queue.Queue at 0x125d11690>"
      ]
     },
     "execution_count": 18,
     "metadata": {},
     "output_type": "execute_result"
    }
   ],
   "source": [
    "API_TOKEN = \"\"\n",
    "updater = Updater(API_TOKEN)\n",
    "dispatcher = updater.dispatcher\n",
    "start_value = CommandHandler(\"next_game\",send_game_detailes)\n",
    "dispatcher.add_handler(start_value)\n",
    "updater.start_polling()"
   ]
  },
  {
   "cell_type": "code",
   "execution_count": null,
   "metadata": {},
   "outputs": [],
   "source": []
  }
 ],
 "metadata": {
  "kernelspec": {
   "display_name": "Python 3",
   "language": "python",
   "name": "python3"
  },
  "language_info": {
   "codemirror_mode": {
    "name": "ipython",
    "version": 3
   },
   "file_extension": ".py",
   "mimetype": "text/x-python",
   "name": "python",
   "nbconvert_exporter": "python",
   "pygments_lexer": "ipython3",
   "version": "3.7.6"
  }
 },
 "nbformat": 4,
 "nbformat_minor": 4
}
